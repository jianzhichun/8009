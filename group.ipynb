{
  "cells": [
    {
      "cell_type": "markdown",
      "metadata": {
        "id": "view-in-github",
        "colab_type": "text"
      },
      "source": [
        "<a href=\"https://colab.research.google.com/github/jianzhichun/8009/blob/main/group.ipynb\" target=\"_parent\"><img src=\"https://colab.research.google.com/assets/colab-badge.svg\" alt=\"Open In Colab\"/></a>"
      ]
    },
    {
      "cell_type": "code",
      "execution_count": 2,
      "metadata": {
        "id": "Kc4kwXDZViGT",
        "outputId": "f75ef10a-c7fc-4131-d47d-15e6f0a5f4ef",
        "colab": {
          "base_uri": "https://localhost:8080/"
        }
      },
      "outputs": [
        {
          "output_type": "stream",
          "name": "stdout",
          "text": [
            "Requirement already satisfied: torch-geometric in /usr/local/lib/python3.7/dist-packages (2.0.4)\n",
            "Requirement already satisfied: tqdm in /usr/local/lib/python3.7/dist-packages (from torch-geometric) (4.63.0)\n",
            "Requirement already satisfied: pandas in /usr/local/lib/python3.7/dist-packages (from torch-geometric) (1.3.5)\n",
            "Requirement already satisfied: scipy in /usr/local/lib/python3.7/dist-packages (from torch-geometric) (1.4.1)\n",
            "Requirement already satisfied: requests in /usr/local/lib/python3.7/dist-packages (from torch-geometric) (2.23.0)\n",
            "Requirement already satisfied: scikit-learn in /usr/local/lib/python3.7/dist-packages (from torch-geometric) (1.0.2)\n",
            "Requirement already satisfied: pyparsing in /usr/local/lib/python3.7/dist-packages (from torch-geometric) (3.0.7)\n",
            "Requirement already satisfied: numpy in /usr/local/lib/python3.7/dist-packages (from torch-geometric) (1.21.5)\n",
            "Requirement already satisfied: jinja2 in /usr/local/lib/python3.7/dist-packages (from torch-geometric) (2.11.3)\n",
            "Requirement already satisfied: MarkupSafe>=0.23 in /usr/local/lib/python3.7/dist-packages (from jinja2->torch-geometric) (2.0.1)\n",
            "Requirement already satisfied: python-dateutil>=2.7.3 in /usr/local/lib/python3.7/dist-packages (from pandas->torch-geometric) (2.8.2)\n",
            "Requirement already satisfied: pytz>=2017.3 in /usr/local/lib/python3.7/dist-packages (from pandas->torch-geometric) (2018.9)\n",
            "Requirement already satisfied: six>=1.5 in /usr/local/lib/python3.7/dist-packages (from python-dateutil>=2.7.3->pandas->torch-geometric) (1.15.0)\n",
            "Requirement already satisfied: urllib3!=1.25.0,!=1.25.1,<1.26,>=1.21.1 in /usr/local/lib/python3.7/dist-packages (from requests->torch-geometric) (1.24.3)\n",
            "Requirement already satisfied: certifi>=2017.4.17 in /usr/local/lib/python3.7/dist-packages (from requests->torch-geometric) (2021.10.8)\n",
            "Requirement already satisfied: idna<3,>=2.5 in /usr/local/lib/python3.7/dist-packages (from requests->torch-geometric) (2.10)\n",
            "Requirement already satisfied: chardet<4,>=3.0.2 in /usr/local/lib/python3.7/dist-packages (from requests->torch-geometric) (3.0.4)\n",
            "Requirement already satisfied: threadpoolctl>=2.0.0 in /usr/local/lib/python3.7/dist-packages (from scikit-learn->torch-geometric) (3.1.0)\n",
            "Requirement already satisfied: joblib>=0.11 in /usr/local/lib/python3.7/dist-packages (from scikit-learn->torch-geometric) (1.1.0)\n"
          ]
        }
      ],
      "source": [
        "# !pip uninstall torch-scatter\n",
        "# !pip uninstall torch-sparse\n",
        "!pip install torch-geometric\n",
        "\n",
        "#if you are doing it on your local machine, pls figure out your pytorch version and the cuda version and modify the following code accordingly.\n",
        "!pip install -q torch-scatter -f https://data.pyg.org/whl/torch-1.10.0+cu113.html\n",
        "!pip install -q torch-sparse -f https://data.pyg.org/whl/torch-1.10.0+cu113.html"
      ],
      "id": "Kc4kwXDZViGT"
    },
    {
      "cell_type": "code",
      "execution_count": 3,
      "metadata": {
        "id": "J831nLYwViGU"
      },
      "outputs": [],
      "source": [
        "import torch\n",
        "import os\n",
        "import pandas as pd\n",
        "from torch_geometric.data import InMemoryDataset, Data, download_url, extract_zip\n",
        "from torch_geometric.utils.convert import to_networkx\n",
        "import networkx as nx\n",
        "from tqdm import tqdm\n",
        "import matplotlib.pyplot as plt"
      ],
      "id": "J831nLYwViGU"
    },
    {
      "cell_type": "markdown",
      "metadata": {
        "id": "P-yaHJk1ViGU"
      },
      "source": [
        "To create the dataset we need to convert the raw information into a ```Data``` object (a graph) in PyG.\n",
        "\n",
        "The first step is to load the csv files, this can be done manually or using some data library as Pandas:"
      ],
      "id": "P-yaHJk1ViGU"
    },
    {
      "cell_type": "markdown",
      "metadata": {
        "id": "p4x0tTViViGY"
      },
      "source": [
        "### Open Graph Benchmark datasets"
      ],
      "id": "p4x0tTViViGY"
    },
    {
      "cell_type": "markdown",
      "metadata": {
        "id": "DmLTZEZ4ViGY"
      },
      "source": [
        "Open Graph Benchmark is available as a python library, to install it just run\n",
        "\n",
        "```pip install ogb```"
      ],
      "id": "DmLTZEZ4ViGY"
    },
    {
      "cell_type": "markdown",
      "metadata": {
        "id": "PqYtXEmjViGY"
      },
      "source": [
        "OGB allows to load a dataset in three ways: for PyG applications, for DGL (Deep Graph Library, another widely used tool for GNNs in python) and in an 'agnostic' manner. There is a naming convention to load a dataset, depending on the task an the dataset name:\n",
        "\n",
        "    ogbn-[name]: for node tasks\n",
        "    ogbg-[name]: for graph tasks\n",
        "    ogbl-[name]: for link tasks"
      ],
      "id": "PqYtXEmjViGY"
    },
    {
      "cell_type": "code",
      "source": [
        "!pip install ogb"
      ],
      "metadata": {
        "id": "mP09G9dIWuWK",
        "outputId": "a0055758-bcac-4817-f3ee-42b1a58da2d6",
        "colab": {
          "base_uri": "https://localhost:8080/"
        }
      },
      "id": "mP09G9dIWuWK",
      "execution_count": 4,
      "outputs": [
        {
          "output_type": "stream",
          "name": "stdout",
          "text": [
            "Collecting ogb\n",
            "  Downloading ogb-1.3.3-py3-none-any.whl (78 kB)\n",
            "\u001b[?25l\r\u001b[K     |████▏                           | 10 kB 22.2 MB/s eta 0:00:01\r\u001b[K     |████████▍                       | 20 kB 28.7 MB/s eta 0:00:01\r\u001b[K     |████████████▋                   | 30 kB 23.7 MB/s eta 0:00:01\r\u001b[K     |████████████████▊               | 40 kB 10.6 MB/s eta 0:00:01\r\u001b[K     |█████████████████████           | 51 kB 12.2 MB/s eta 0:00:01\r\u001b[K     |█████████████████████████▏      | 61 kB 14.2 MB/s eta 0:00:01\r\u001b[K     |█████████████████████████████▎  | 71 kB 10.7 MB/s eta 0:00:01\r\u001b[K     |████████████████████████████████| 78 kB 3.9 MB/s \n",
            "\u001b[?25hRequirement already satisfied: torch>=1.6.0 in /usr/local/lib/python3.7/dist-packages (from ogb) (1.10.0+cu111)\n",
            "Collecting outdated>=0.2.0\n",
            "  Downloading outdated-0.2.1-py3-none-any.whl (7.5 kB)\n",
            "Requirement already satisfied: pandas>=0.24.0 in /usr/local/lib/python3.7/dist-packages (from ogb) (1.3.5)\n",
            "Requirement already satisfied: urllib3>=1.24.0 in /usr/local/lib/python3.7/dist-packages (from ogb) (1.24.3)\n",
            "Requirement already satisfied: six>=1.12.0 in /usr/local/lib/python3.7/dist-packages (from ogb) (1.15.0)\n",
            "Requirement already satisfied: tqdm>=4.29.0 in /usr/local/lib/python3.7/dist-packages (from ogb) (4.63.0)\n",
            "Requirement already satisfied: numpy>=1.16.0 in /usr/local/lib/python3.7/dist-packages (from ogb) (1.21.5)\n",
            "Requirement already satisfied: scikit-learn>=0.20.0 in /usr/local/lib/python3.7/dist-packages (from ogb) (1.0.2)\n",
            "Collecting littleutils\n",
            "  Downloading littleutils-0.2.2.tar.gz (6.6 kB)\n",
            "Requirement already satisfied: requests in /usr/local/lib/python3.7/dist-packages (from outdated>=0.2.0->ogb) (2.23.0)\n",
            "Requirement already satisfied: python-dateutil>=2.7.3 in /usr/local/lib/python3.7/dist-packages (from pandas>=0.24.0->ogb) (2.8.2)\n",
            "Requirement already satisfied: pytz>=2017.3 in /usr/local/lib/python3.7/dist-packages (from pandas>=0.24.0->ogb) (2018.9)\n",
            "Requirement already satisfied: scipy>=1.1.0 in /usr/local/lib/python3.7/dist-packages (from scikit-learn>=0.20.0->ogb) (1.4.1)\n",
            "Requirement already satisfied: threadpoolctl>=2.0.0 in /usr/local/lib/python3.7/dist-packages (from scikit-learn>=0.20.0->ogb) (3.1.0)\n",
            "Requirement already satisfied: joblib>=0.11 in /usr/local/lib/python3.7/dist-packages (from scikit-learn>=0.20.0->ogb) (1.1.0)\n",
            "Requirement already satisfied: typing-extensions in /usr/local/lib/python3.7/dist-packages (from torch>=1.6.0->ogb) (3.10.0.2)\n",
            "Requirement already satisfied: certifi>=2017.4.17 in /usr/local/lib/python3.7/dist-packages (from requests->outdated>=0.2.0->ogb) (2021.10.8)\n",
            "Requirement already satisfied: chardet<4,>=3.0.2 in /usr/local/lib/python3.7/dist-packages (from requests->outdated>=0.2.0->ogb) (3.0.4)\n",
            "Requirement already satisfied: idna<3,>=2.5 in /usr/local/lib/python3.7/dist-packages (from requests->outdated>=0.2.0->ogb) (2.10)\n",
            "Building wheels for collected packages: littleutils\n",
            "  Building wheel for littleutils (setup.py) ... \u001b[?25l\u001b[?25hdone\n",
            "  Created wheel for littleutils: filename=littleutils-0.2.2-py3-none-any.whl size=7048 sha256=a0b209b7a6648736c3c933a2103071f34296c3ff20e44357f1f64eb04a8d8d94\n",
            "  Stored in directory: /root/.cache/pip/wheels/d6/64/cd/32819b511a488e4993f2fab909a95330289c3f4e0f6ef4676d\n",
            "Successfully built littleutils\n",
            "Installing collected packages: littleutils, outdated, ogb\n",
            "Successfully installed littleutils-0.2.2 ogb-1.3.3 outdated-0.2.1\n"
          ]
        }
      ]
    },
    {
      "cell_type": "code",
      "execution_count": 14,
      "metadata": {
        "id": "Wyb9bVD-ViGY"
      },
      "outputs": [],
      "source": [
        "from ogb.nodeproppred import PygNodePropPredDataset\n",
        "#from ogb.graphproppred import PygGraphPropPredDataset\n",
        "#from ogb.linkproppred import PygLinkPropPredDataset"
      ],
      "id": "Wyb9bVD-ViGY"
    },
    {
      "cell_type": "code",
      "execution_count": 6,
      "metadata": {
        "id": "l1zadVohViGY",
        "outputId": "61ffada4-6dd2-486d-dff1-3d9a6501d6d4",
        "colab": {
          "base_uri": "https://localhost:8080/"
        }
      },
      "outputs": [
        {
          "output_type": "stream",
          "name": "stdout",
          "text": [
            "Downloading http://snap.stanford.edu/ogb/data/nodeproppred/arxiv.zip\n"
          ]
        },
        {
          "output_type": "stream",
          "name": "stderr",
          "text": [
            "Downloaded 0.08 GB: 100%|██████████| 81/81 [00:13<00:00,  6.01it/s]\n"
          ]
        },
        {
          "output_type": "stream",
          "name": "stdout",
          "text": [
            "Extracting data/arxiv.zip\n"
          ]
        },
        {
          "output_type": "stream",
          "name": "stderr",
          "text": [
            "Processing...\n"
          ]
        },
        {
          "output_type": "stream",
          "name": "stdout",
          "text": [
            "Loading necessary files...\n",
            "This might take a while.\n",
            "Processing graphs...\n"
          ]
        },
        {
          "output_type": "stream",
          "name": "stderr",
          "text": [
            "100%|██████████| 1/1 [00:00<00:00, 7681.88it/s]\n"
          ]
        },
        {
          "output_type": "stream",
          "name": "stdout",
          "text": [
            "Converting graphs into PyG objects...\n"
          ]
        },
        {
          "output_type": "stream",
          "name": "stderr",
          "text": [
            "100%|██████████| 1/1 [00:00<00:00, 2517.59it/s]"
          ]
        },
        {
          "output_type": "stream",
          "name": "stdout",
          "text": [
            "Saving...\n"
          ]
        },
        {
          "output_type": "stream",
          "name": "stderr",
          "text": [
            "\n",
            "Done!\n"
          ]
        }
      ],
      "source": [
        "dataset_name = 'ogbn-arxiv'\n",
        "dataset = PygNodePropPredDataset(name = dataset_name, root='data') \n",
        "\n",
        "split_idx = dataset.get_idx_split()\n",
        "train_idx, valid_idx, test_idx = split_idx[\"train\"], split_idx[\"valid\"], split_idx[\"test\"]\n",
        "graph = dataset[0] "
      ],
      "id": "l1zadVohViGY"
    },
    {
      "cell_type": "markdown",
      "source": [
        "### You have to write a short proposal for me to review."
      ],
      "metadata": {
        "id": "LFz1-mfzcw9r"
      },
      "id": "LFz1-mfzcw9r"
    },
    {
      "cell_type": "markdown",
      "source": [
        "In this project, I will try to use Graph Neural Networks to predict a collection of papers from arXiv. We will build our first graph neural network using PyTorch Geometric and apply it to node attribute prediction (node classification). And We will build a graph neural network using the GCN operator."
      ],
      "metadata": {
        "id": "lq7xWYoQeeEn"
      },
      "id": "lq7xWYoQeeEn"
    },
    {
      "cell_type": "markdown",
      "source": [
        "### Describe the problem and the dataset clearly."
      ],
      "metadata": {
        "id": "FDn_SH5Gc48i"
      },
      "id": "FDn_SH5Gc48i"
    },
    {
      "cell_type": "markdown",
      "source": [
        "#### What’s the input, what’s the output?"
      ],
      "metadata": {
        "id": "z_pyb3JldFBk"
      },
      "id": "z_pyb3JldFBk"
    },
    {
      "cell_type": "code",
      "source": [
        "print(f'Input: the graph data with {graph.num_features} features')\n",
        "print(f'Output: the accuracy of our prediction model')"
      ],
      "metadata": {
        "id": "x0BuhoHedaLS",
        "outputId": "ae12fb47-821e-4353-8956-a6b1ca4c877c",
        "colab": {
          "base_uri": "https://localhost:8080/"
        }
      },
      "id": "x0BuhoHedaLS",
      "execution_count": 16,
      "outputs": [
        {
          "output_type": "stream",
          "name": "stdout",
          "text": [
            "Input: the graph data with 128 features\n",
            "Output: the accuracy of our prediction model\n"
          ]
        }
      ]
    },
    {
      "cell_type": "markdown",
      "source": [
        "#### Why is the problem important?"
      ],
      "metadata": {
        "id": "S71lrYyGdNA4"
      },
      "id": "S71lrYyGdNA4"
    },
    {
      "cell_type": "markdown",
      "source": [
        "Finding an accurate model can help us classify papers and predict the properties of papers."
      ],
      "metadata": {
        "id": "cQNrCJR_hWIn"
      },
      "id": "cQNrCJR_hWIn"
    },
    {
      "cell_type": "markdown",
      "source": [
        "#### What’s the most popular baseline method?"
      ],
      "metadata": {
        "id": "G9kR7yLRdPtf"
      },
      "id": "G9kR7yLRdPtf"
    },
    {
      "cell_type": "markdown",
      "source": [
        "GCN, Node2Vec, MLP..."
      ],
      "metadata": {
        "id": "VZoOWF8iiBQu"
      },
      "id": "VZoOWF8iiBQu"
    },
    {
      "cell_type": "markdown",
      "source": [
        "#### What’s the evaluation metric?"
      ],
      "metadata": {
        "id": "Nb4Pyk1adS-0"
      },
      "id": "Nb4Pyk1adS-0"
    },
    {
      "cell_type": "markdown",
      "source": [
        "* The standardized evaluation protocol from ogb.\n",
        "* The accuracy, precision, recall and F1-score"
      ],
      "metadata": {
        "id": "P9Y-ldY0iQKj"
      },
      "id": "P9Y-ldY0iQKj"
    }
  ],
  "metadata": {
    "kernelspec": {
      "display_name": "Python 3",
      "language": "python",
      "name": "python3"
    },
    "language_info": {
      "codemirror_mode": {
        "name": "ipython",
        "version": 3
      },
      "file_extension": ".py",
      "mimetype": "text/x-python",
      "name": "python",
      "nbconvert_exporter": "python",
      "pygments_lexer": "ipython3",
      "version": "3.8.3"
    },
    "colab": {
      "name": "load_data_from_ogbn_arxiv.ipynb",
      "provenance": [],
      "toc_visible": true,
      "collapsed_sections": [],
      "include_colab_link": true
    }
  },
  "nbformat": 4,
  "nbformat_minor": 5
}